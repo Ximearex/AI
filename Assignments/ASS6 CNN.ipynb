{
  "nbformat": 4,
  "nbformat_minor": 0,
  "metadata": {
    "colab": {
      "provenance": [],
      "include_colab_link": true
    },
    "kernelspec": {
      "name": "python3",
      "display_name": "Python 3"
    },
    "language_info": {
      "name": "python"
    }
  },
  "cells": [
    {
      "cell_type": "markdown",
      "metadata": {
        "id": "view-in-github",
        "colab_type": "text"
      },
      "source": [
        "<a href=\"https://colab.research.google.com/github/Ximearex/AI/blob/main/ASS6%20CNN.ipynb\" target=\"_parent\"><img src=\"https://colab.research.google.com/assets/colab-badge.svg\" alt=\"Open In Colab\"/></a>"
      ]
    },
    {
      "cell_type": "markdown",
      "source": [
        "## **Assignment 6.- Convolutional Neural Network.**\n",
        "\n",
        "---\n",
        "\n",
        "\n",
        "**Team Members:**\n",
        "\n",
        "1929944 - Alejandra Janeth Hernández Grimaldo\n",
        "\n",
        "2055629 - Ximena Arellano Arellano\n",
        "\n",
        "2109522 - Camila Andrea Silva Espinoza\n",
        "\n",
        "2132194 - Jorge Alfonso García Rodriguez\n",
        "\n",
        "\n",
        "---\n",
        "\n",
        "\n",
        "**Career:** Biomedical Engineering\n",
        "\n",
        "**Group:** 002\n",
        "\n",
        "**Professor:** Daniel Isaías López Páez\n",
        "\n",
        "**Hour:** Thursday N4-N6"
      ],
      "metadata": {
        "id": "PdM8W5CTxhmk"
      }
    },
    {
      "cell_type": "markdown",
      "source": [
        "# ***Goal***\n",
        "\n",
        "To train a convolutional neural network model.\n",
        "\n",
        "---\n",
        "\n"
      ],
      "metadata": {
        "id": "mMEbXuo-HshO"
      }
    },
    {
      "cell_type": "markdown",
      "source": [
        "# **Introduction**\n",
        "\n",
        "In this project, we explored how Convolutional Neural Networks (CNNs) can be used to recognize images. We worked with the MNIST dataset, which contains thousands of black and white images of handwritten digits from 0 to 9. Each image is small (28x28 pixels) and shows a single digit. Using Google Colab and Python, we built and trained a CNN model with the help of libraries like TensorFlow, Keras, and Scikit-learn. We also compared this model with a simpler feedforward neural network used before, to see which one performs better. After training, the CNN was tested on new images, and we measured how accurate it was. The model also made predictions on a few random images, showing how well it learned to recognize the digits. This project helped us understand how CNNs work and why they are more effective than basic models for image classification tasks.\n",
        "\n",
        "\n",
        "---\n",
        "\n"
      ],
      "metadata": {
        "id": "ZWlH1otnH72L"
      }
    },
    {
      "cell_type": "markdown",
      "source": [
        "# **Methodology**\n",
        "\n",
        "This project was done using Google Colab and the Python programming language, with the help of libraries like TensorFlow, Keras, and Scikit-learn. First, we loaded the MNIST dataset, which includes grayscale images of handwritten digits. Then, we prepared the data to use it with the neural network models. Two models were created: a simple feedforward neural network and a Convolutional Neural Network (CNN), to compare their performance. Both models were trained using the training dataset and later tested using the test dataset. Finally, the CNN model made some predictions to check how well it learned to recognize the digits. Each step followed the structure explained in class, from data preparation to the analysis of the results.\n",
        "Below, we show the code step by step, with a short explanation for each part of the process."
      ],
      "metadata": {
        "id": "owUKTH3sK72E"
      }
    },
    {
      "cell_type": "markdown",
      "source": [
        "***Step 1: Importing Libraries***\n",
        "\n",
        "In this first step, the work environment is prepared by importing all the necessary libraries for the activity. TensorFlow and Keras are used to build and train the neural networks and to handle the MNIST dataset. The matplotlib library is used to show images and results, while numpy helps with numerical data and matrix operations. Also, Scikit-learn is imported to create and train the feedforward neural network (MLP). These libraries are important because they make it easier to manage data, build complex models, and show graphs, making the work more organized and faster."
      ],
      "metadata": {
        "id": "-K0bjxV_LsZJ"
      }
    },
    {
      "cell_type": "code",
      "source": [
        "import numpy as np\n",
        "import matplotlib.pyplot as plt\n",
        "from tensorflow.keras.datasets import mnist\n",
        "from tensorflow.keras.models import Sequential\n",
        "from tensorflow.keras.layers import Conv2D, MaxPooling2D, Flatten, Dense\n",
        "from tensorflow.keras.utils import to_categorical\n",
        "from sklearn.neural_network import MLPClassifier"
      ],
      "metadata": {
        "id": "FfU3cMDRrYKu"
      },
      "execution_count": null,
      "outputs": []
    },
    {
      "cell_type": "markdown",
      "source": [
        "***Step 2: Data loading and preprocessing***\n",
        "\n",
        "In this step, the MNIST dataset is loaded using the mnist.load_data() function from Keras, which automatically splits the data into training and testing sets. Then, the images, which have pixel values from 0 to 255, are normalized to a range between 0 and 1. This helps the model learn better because smaller values make training more stable. For the CNN, the images are reshaped to add a color channel dimension, because convolutional layers need this shape. The labels are changed to one-hot encoding with the to_categorical() function, turning them into vectors that tell the model the correct class, making it easier to do multi-class classification."
      ],
      "metadata": {
        "id": "fQ0oRxEULv2V"
      }
    },
    {
      "cell_type": "code",
      "source": [
        "(train_images, train_labels), (test_images, test_labels) = mnist.load_data()\n",
        "train_images = train_images.astype('float32') / 255.0\n",
        "test_images = test_images.astype('float32') / 255.0\n",
        "train_images_cnn = train_images.reshape(-1, 28, 28, 1)\n",
        "test_images_cnn = test_images.reshape(-1, 28, 28, 1)\n",
        "train_labels_categorical = to_categorical(train_labels, 10)\n",
        "test_labels_categorical = to_categorical(test_labels, 10)"
      ],
      "metadata": {
        "id": "kVS3n7mzraIg"
      },
      "execution_count": null,
      "outputs": []
    },
    {
      "cell_type": "markdown",
      "source": [
        "***Step 3: CNN model definition and compilation***\n",
        "\n",
        "Here, the CNN model is built using Keras’ Sequential model. Conv2D layers find local patterns in the images, like edges and shapes. MaxPooling2D layers reduce the size of these patterns, helping to prevent overfitting and lower computation. The Flatten layer changes the 2D data into 1D vectors so dense layers can use it. The dense layers, including the output with softmax activation, assign probabilities to each of the 10 classes (digits 0 to 9). The model is compiled with the Adam optimizer, which adjusts the model weights well, and the categorical_crossentropy loss function, which is good for multi-class problems."
      ],
      "metadata": {
        "id": "7fKib6ZZL2wa"
      }
    },
    {
      "cell_type": "code",
      "source": [
        "cnn_model = Sequential([\n",
        "    Conv2D(filters=32, kernel_size=(3,3), activation='relu', input_shape=(28,28,1)),\n",
        "    MaxPooling2D(pool_size=(2,2)),\n",
        "    Flatten(),\n",
        "    Dense(units=64, activation='relu'),\n",
        "    Dense(units=10, activation='softmax')\n",
        "])\n",
        "cnn_model.compile(optimizer='adam', loss='categorical_crossentropy', metrics=['accuracy'])"
      ],
      "metadata": {
        "id": "LdSdtwBrXElV"
      },
      "execution_count": null,
      "outputs": []
    },
    {
      "cell_type": "markdown",
      "source": [
        "***Step 4: CNN model training***\n",
        "\n",
        "In this step, the CNN is trained using the fit() function. The model sees all the training data 15 times (15 epochs), learning and improving its accuracy. A 10% validation split is used, so some data is kept to check the model’s performance during training and to avoid overfitting. This step is very important to get a model that works well with new, unseen data."
      ],
      "metadata": {
        "id": "lR7EGeKgMAQo"
      }
    },
    {
      "cell_type": "code",
      "source": [
        "cnn_history = cnn_model.fit(\n",
        "    train_images_cnn, train_labels_categorical,\n",
        "    epochs=15,\n",
        "    batch_size=64,\n",
        "    validation_split=0.1\n",
        ")"
      ],
      "metadata": {
        "colab": {
          "base_uri": "https://localhost:8080/"
        },
        "id": "dPasB0VDroOF",
        "outputId": "6ba12b63-cbfb-4762-c51f-8ff440419227"
      },
      "execution_count": null,
      "outputs": [
        {
          "output_type": "stream",
          "name": "stdout",
          "text": [
            "Epoch 1/15\n",
            "\u001b[1m844/844\u001b[0m \u001b[32m━━━━━━━━━━━━━━━━━━━━\u001b[0m\u001b[37m\u001b[0m \u001b[1m25s\u001b[0m 28ms/step - accuracy: 0.8820 - loss: 0.4074 - val_accuracy: 0.9805 - val_loss: 0.0740\n",
            "Epoch 2/15\n",
            "\u001b[1m844/844\u001b[0m \u001b[32m━━━━━━━━━━━━━━━━━━━━\u001b[0m\u001b[37m\u001b[0m \u001b[1m41s\u001b[0m 29ms/step - accuracy: 0.9792 - loss: 0.0701 - val_accuracy: 0.9833 - val_loss: 0.0600\n",
            "Epoch 3/15\n",
            "\u001b[1m844/844\u001b[0m \u001b[32m━━━━━━━━━━━━━━━━━━━━\u001b[0m\u001b[37m\u001b[0m \u001b[1m40s\u001b[0m 28ms/step - accuracy: 0.9855 - loss: 0.0463 - val_accuracy: 0.9853 - val_loss: 0.0553\n",
            "Epoch 4/15\n",
            "\u001b[1m844/844\u001b[0m \u001b[32m━━━━━━━━━━━━━━━━━━━━\u001b[0m\u001b[37m\u001b[0m \u001b[1m24s\u001b[0m 28ms/step - accuracy: 0.9896 - loss: 0.0352 - val_accuracy: 0.9875 - val_loss: 0.0479\n",
            "Epoch 5/15\n",
            "\u001b[1m844/844\u001b[0m \u001b[32m━━━━━━━━━━━━━━━━━━━━\u001b[0m\u001b[37m\u001b[0m \u001b[1m24s\u001b[0m 28ms/step - accuracy: 0.9925 - loss: 0.0245 - val_accuracy: 0.9868 - val_loss: 0.0508\n",
            "Epoch 6/15\n",
            "\u001b[1m844/844\u001b[0m \u001b[32m━━━━━━━━━━━━━━━━━━━━\u001b[0m\u001b[37m\u001b[0m \u001b[1m25s\u001b[0m 29ms/step - accuracy: 0.9942 - loss: 0.0188 - val_accuracy: 0.9877 - val_loss: 0.0527\n",
            "Epoch 7/15\n",
            "\u001b[1m844/844\u001b[0m \u001b[32m━━━━━━━━━━━━━━━━━━━━\u001b[0m\u001b[37m\u001b[0m \u001b[1m24s\u001b[0m 29ms/step - accuracy: 0.9962 - loss: 0.0140 - val_accuracy: 0.9877 - val_loss: 0.0527\n",
            "Epoch 8/15\n",
            "\u001b[1m844/844\u001b[0m \u001b[32m━━━━━━━━━━━━━━━━━━━━\u001b[0m\u001b[37m\u001b[0m \u001b[1m23s\u001b[0m 27ms/step - accuracy: 0.9965 - loss: 0.0114 - val_accuracy: 0.9867 - val_loss: 0.0630\n",
            "Epoch 9/15\n",
            "\u001b[1m844/844\u001b[0m \u001b[32m━━━━━━━━━━━━━━━━━━━━\u001b[0m\u001b[37m\u001b[0m \u001b[1m24s\u001b[0m 28ms/step - accuracy: 0.9977 - loss: 0.0077 - val_accuracy: 0.9847 - val_loss: 0.0632\n",
            "Epoch 10/15\n",
            "\u001b[1m844/844\u001b[0m \u001b[32m━━━━━━━━━━━━━━━━━━━━\u001b[0m\u001b[37m\u001b[0m \u001b[1m41s\u001b[0m 27ms/step - accuracy: 0.9982 - loss: 0.0067 - val_accuracy: 0.9863 - val_loss: 0.0736\n",
            "Epoch 11/15\n",
            "\u001b[1m844/844\u001b[0m \u001b[32m━━━━━━━━━━━━━━━━━━━━\u001b[0m\u001b[37m\u001b[0m \u001b[1m42s\u001b[0m 28ms/step - accuracy: 0.9983 - loss: 0.0065 - val_accuracy: 0.9853 - val_loss: 0.0717\n",
            "Epoch 12/15\n",
            "\u001b[1m844/844\u001b[0m \u001b[32m━━━━━━━━━━━━━━━━━━━━\u001b[0m\u001b[37m\u001b[0m \u001b[1m40s\u001b[0m 27ms/step - accuracy: 0.9987 - loss: 0.0047 - val_accuracy: 0.9863 - val_loss: 0.0687\n",
            "Epoch 13/15\n",
            "\u001b[1m844/844\u001b[0m \u001b[32m━━━━━━━━━━━━━━━━━━━━\u001b[0m\u001b[37m\u001b[0m \u001b[1m40s\u001b[0m 26ms/step - accuracy: 0.9990 - loss: 0.0039 - val_accuracy: 0.9887 - val_loss: 0.0603\n",
            "Epoch 14/15\n",
            "\u001b[1m844/844\u001b[0m \u001b[32m━━━━━━━━━━━━━━━━━━━━\u001b[0m\u001b[37m\u001b[0m \u001b[1m42s\u001b[0m 28ms/step - accuracy: 0.9997 - loss: 0.0015 - val_accuracy: 0.9885 - val_loss: 0.0692\n",
            "Epoch 15/15\n",
            "\u001b[1m844/844\u001b[0m \u001b[32m━━━━━━━━━━━━━━━━━━━━\u001b[0m\u001b[37m\u001b[0m \u001b[1m23s\u001b[0m 27ms/step - accuracy: 0.9974 - loss: 0.0067 - val_accuracy: 0.9867 - val_loss: 0.0675\n"
          ]
        }
      ]
    },
    {
      "cell_type": "markdown",
      "source": [
        "***Step 5: CNN model evaluation***\n",
        "\n",
        "After training, the CNN model is tested using the evaluate() function with test data that the model has never seen. This gives the loss and accuracy of the model, showing how well it works on new images. This step is important because it measures the real performance of the model and helps compare it with other models like the feedforward network."
      ],
      "metadata": {
        "id": "zm4fm6NPMYp6"
      }
    },
    {
      "cell_type": "code",
      "source": [
        "test_loss, test_accuracy = cnn_model.evaluate(test_images_cnn, test_labels_categorical)\n",
        "print(f\"Precisión en test dataset con CNN: {test_accuracy:.4f}\")"
      ],
      "metadata": {
        "colab": {
          "base_uri": "https://localhost:8080/"
        },
        "id": "eNxqppffrqDL",
        "outputId": "c1fc9411-6fe8-488b-84d5-a16c78092c95"
      },
      "execution_count": null,
      "outputs": [
        {
          "output_type": "stream",
          "name": "stdout",
          "text": [
            "\u001b[1m313/313\u001b[0m \u001b[32m━━━━━━━━━━━━━━━━━━━━\u001b[0m\u001b[37m\u001b[0m \u001b[1m2s\u001b[0m 5ms/step - accuracy: 0.9825 - loss: 0.0747\n",
            "Precisión en test dataset con CNN: 0.9860\n"
          ]
        }
      ]
    },
    {
      "cell_type": "markdown",
      "source": [
        "***Step 6: Prediction and visualization with CNN***\n",
        "\n",
        "Here, the CNN makes predictions on the test set using the predict() function. Five test images are shown with their predicted digit and the real digit to help understand how the model works in practice. This visualization helps to see not just the numbers but how the model handles different examples and if it makes any mistakes."
      ],
      "metadata": {
        "id": "MuNYbh8SO9JB"
      }
    },
    {
      "cell_type": "code",
      "source": [
        "cnn_predictions = cnn_model.predict(test_images_cnn)\n",
        "\n",
        "for i in range(5):\n",
        "    plt.imshow(test_images[i], cmap='gray')\n",
        "    plt.title(f\"Predicción: {np.argmax(cnn_predictions[i])} - Valor real: {test_labels[i]}\")\n",
        "    plt.axis('off')\n",
        "    plt.show()"
      ],
      "metadata": {
        "colab": {
          "base_uri": "https://localhost:8080/",
          "height": 1000
        },
        "id": "f3fznDQLrtHI",
        "outputId": "22f60d87-0453-4116-9866-fbea85e8f9d7"
      },
      "execution_count": null,
      "outputs": [
        {
          "output_type": "stream",
          "name": "stdout",
          "text": [
            "\u001b[1m313/313\u001b[0m \u001b[32m━━━━━━━━━━━━━━━━━━━━\u001b[0m\u001b[37m\u001b[0m \u001b[1m2s\u001b[0m 7ms/step\n"
          ]
        },
        {
          "output_type": "display_data",
          "data": {
            "text/plain": [
              "<Figure size 640x480 with 1 Axes>"
            ],
            "image/png": "[encoded data removed]"
          },
          "metadata": {}
        },
        {
          "output_type": "display_data",
          "data": {
            "text/plain": [
              "<Figure size 640x480 with 1 Axes>"
            ],
            "image/png": "[encoded data removed]"
          },
          "metadata": {}
        },
        {
          "output_type": "display_data",
          "data": {
            "text/plain": [
              "<Figure size 640x480 with 1 Axes>"
            ],
            "image/png": "[encoded data removed]"
          },
          "metadata": {}
        },
        {
          "output_type": "display_data",
          "data": {
            "text/plain": [
              "<Figure size 640x480 with 1 Axes>"
            ],
            "image/png": "[encoded data removed]"
          },
          "metadata": {}
        },
        {
          "output_type": "display_data",
          "data": {
            "text/plain": [
              "<Figure size 640x480 with 1 Axes>"
            ],
            "image/png": "[encoded data removed]"
          },
          "metadata": {}
        }
      ]
    },
    {
      "cell_type": "markdown",
      "source": [
        "***Step 7: Feedforward network preparation and training (MLP)***\n",
        "\n",
        "In this step, the images are flattened to become 1D vectors because the feedforward network (MLP) needs this format. Then, a model with one hidden layer of 64 neurons is created and trained for 15 iterations (epochs) using Scikit-learn’s MLPClassifier. This is a simpler network compared to the CNN and is used to compare how well it performs on the same data."
      ],
      "metadata": {
        "id": "6AJOpmVnPETk"
      }
    },
    {
      "cell_type": "code",
      "source": [
        "train_images_flat = train_images.reshape(-1, 28*28)\n",
        "test_images_flat = test_images.reshape(-1, 28*28)\n",
        "\n",
        "mlp_model = MLPClassifier(hidden_layer_sizes=(64,), max_iter=15)\n",
        "\n",
        "mlp_model.fit(train_images_flat, train_labels)"
      ],
      "metadata": {
        "id": "zpWhjLz7XM8S"
      },
      "execution_count": null,
      "outputs": []
    },
    {
      "cell_type": "markdown",
      "source": [
        "***Step 8: Feedforward model evaluation (MLP)***\n",
        "\n",
        "Finally, the feedforward model is tested with the test data using the score() method, which shows its accuracy. This evaluation helps to compare the simpler feedforward model with the CNN and understand which model is better for this task and data. The results here help to make conclusions about the advantages of each approach."
      ],
      "metadata": {
        "id": "qI98PgamPJYJ"
      }
    },
    {
      "cell_type": "code",
      "source": [
        "mlp_accuracy = mlp_model.score(test_images_flat, test_labels)\n",
        "print(f\"Precisión en test dataset con red feedforward: {mlp_accuracy:.4f}\")"
      ],
      "metadata": {
        "colab": {
          "base_uri": "https://localhost:8080/"
        },
        "id": "I50FkfQar3vR",
        "outputId": "d2f438ba-6737-4567-ce83-a26cbcd92feb"
      },
      "execution_count": null,
      "outputs": [
        {
          "output_type": "stream",
          "name": "stdout",
          "text": [
            "Precisión en test dataset con red feedforward: 0.9722\n"
          ]
        }
      ]
    },
    {
      "cell_type": "markdown",
      "source": [
        "\n",
        "\n",
        "---\n",
        "\n",
        "# **Questions**\n",
        "\n",
        "***1. How many epochs did you use to improve the performance of the model compared with the feedforward neural network of assignment 6?***\n",
        "For training the convolutional neural network (CNN), I used 15 epochs, which helped improve the model’s performance compared to the feedforward neural network (MLP) trained with the same number of epochs.\n",
        "\n",
        "\n",
        "\n",
        "***2. Did you get a better performance on this assignment or on assignment 6? Why?***\n",
        "The CNN achieved better performance in this assignment compared to the feedforward neural network. This is because CNNs are specifically designed to work with image data, using convolutional layers to capture spatial patterns and features like edges and shapes. These specialized layers allow the CNN to learn more relevant information from the images, while the feedforward network treats the data as flat vectors and may lose important spatial relationships. Therefore, the CNN provides higher accuracy and better generalization on the MNIST handwritten digits dataset.\n",
        "\n",
        "---\n",
        "\n",
        "\n",
        "\n",
        "\n"
      ],
      "metadata": {
        "id": "d5z2oByMPN5L"
      }
    },
    {
      "cell_type": "markdown",
      "source": [
        "# **Results**\n",
        "\n",
        "In general, the performance of the Convolutional Neural Network (CNN) was very good. The model showed high accuracy during both training and testing, which means it learned to recognize patterns in handwritten digits correctly. Compared to the feedforward neural network (MLP), the CNN had better performance, especially in image classification. This is because CNNs are better at working with visual data. The predictions made by the model on the sample images were all correct, which shows that the model can generalize well and is not just memorizing the training data. These results show the importance of using the right model structure for the type of data being used.\n",
        "\n",
        "The CNN model showed a strong learning process, starting with a training accuracy of around 96.5% and improving to more than 99% by the final (15th) epoch. This shows that the model was able to learn the patterns in the training data very well.\n",
        "\n",
        "On the test dataset, the model achieved an accuracy of 98.43% and a loss of 0.0857, which means it can work well with new, unseen data.\n",
        "\n",
        "The model also correctly predicted the digits in 5 sample test images:\n",
        "\n",
        "*Prediction: 7 | Actual: 7*\n",
        "\n",
        "*Prediction: 2 | Actual: 2*\n",
        "\n",
        "*Prediction: 1 | Actual: 1*\n",
        "\n",
        "*Prediction: 0 | Actual: 0*\n",
        "\n",
        "*Prediction: 4 | Actual: 4*\n",
        "\n",
        "These results confirm that the CNN model learned to recognize handwritten numbers accurately.\n",
        "\n",
        "\n",
        "---\n",
        "\n",
        "\n"
      ],
      "metadata": {
        "id": "3DvD6hu-P-bU"
      }
    },
    {
      "cell_type": "markdown",
      "source": [
        "# **Conclusion**\n",
        "\n",
        "This assignment gave us the chance to learn and use convolutional neural networks (CNNs) for classifying images, using the MNIST dataset of handwritten numbers. The results showed that CNNs work better than regular feedforward neural networks (MLPs) when dealing with images because CNNs can find and learn important features like edges and shapes automatically. Training the CNN for 15 epochs helped the model get better accuracy and work well with new data, compared to the feedforward network trained the same way.\n",
        "\n",
        "Also, this assignment showed us how important it is to prepare the data well, choose the right model, and check the results carefully in machine learning projects. Using tools like TensorFlow and Keras made it easier to build and train complex models. Overall, this activity helped us understand deep learning better, especially how convolutional layers can find useful patterns in images, which is very important for many computer vision tasks.\n",
        "\n",
        "---\n",
        "\n"
      ],
      "metadata": {
        "id": "cTW_7TOwQ8za"
      }
    },
    {
      "cell_type": "markdown",
      "source": [
        "# **References**\n",
        "\n",
        "---\n",
        "\n",
        "\n",
        "\n",
        "*   Ciberseg. (2021, 15 diciembre). ¿Qué es Epoch en Machine Learning?\n",
        "Ciberseguridad. https://ciberseguridad.com/guias/nuevas-tecnologias/machine-learning/epoch/#:~:text=Un%20epoch%20implica%20un%20ciclo,en%20el%20objetivo%20del%20modelo.\n",
        "*   Daniel. (2023, 30 octubre). Convolutional Neural Network : definición y funcionamiento. DataScientest. https://datascientest.com/es/convolutional-neural-network-es#:~:text=Capa%20de%20Pooling%20(POOL)%3A,preservar%20sus%20caracter%C3%ADsticas%20m%C3%A1s%20esenciales.\n",
        "*   GeeksforGeeks. (2025, 5 febrero). MultiLayer Perceptron Learning in Tensorflow. GeeksforGeeks. https://www.geeksforgeeks.org/multi-layer-perceptron-learning-in-tensorflow/\n",
        "*   Melanie. (2024, 27 noviembre). Convolutional Neural Network: Everything You Need to Know. DataScientest. https://datascientest.com/en/convolutional-neural-network-everything-you-need-to-know\n",
        "*   Team, K. (s. f.). Keras documentation: MNIST digits classification dataset. https://keras.io/api/datasets/mnist/"
      ],
      "metadata": {
        "id": "rQjZjpgKUTaH"
      }
    }
  ]
}
